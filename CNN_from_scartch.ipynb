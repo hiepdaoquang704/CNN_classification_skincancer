{
 "cells": [
  {
   "cell_type": "code",
   "execution_count": 3,
   "metadata": {},
   "outputs": [],
   "source": [
    "import numpy as np\n",
    "import pandas as pd\n",
    "import cv2 \n",
    "import matplotlib.pyplot as plt\n"
   ]
  },
  {
   "cell_type": "code",
   "execution_count": 4,
   "metadata": {},
   "outputs": [],
   "source": [
    "# img=cv2.imread(\"D:\\imageprocessing\\peakpx.jpg\",cv2.IMREAD_GRAYSCALE)/255\n",
    "# plt.imshow(img,cmap='gray')\n",
    "# plt.show()\n"
   ]
  },
  {
   "cell_type": "code",
   "execution_count": null,
   "metadata": {},
   "outputs": [],
   "source": []
  },
  {
   "cell_type": "code",
   "execution_count": 5,
   "metadata": {},
   "outputs": [],
   "source": [
    "class conv:\n",
    "    def __init__(self,num_filters,filter_size):\n",
    "        self.num_filters=num_filters\n",
    "        self.filters_size=filter_size\n",
    "        self.conv_filter=np.random.randn(num_filters,filter_size,filter_size)/(filter_size*filter_size)\n",
    "    def image_region(self,image):\n",
    "        height,width=image.shape\n",
    "        self.image=image\n",
    "        for j in range(height-self.filters_size+1):\n",
    "            for k in range(width-self.filters_size+1):\n",
    "                image_patch=image[j:(j+self.filters_size),k:(k+self.filters_size)]\n",
    "                yield image_patch,j,k\n",
    "    def forward_prop(self,image):\n",
    "        height, width=image.shape\n",
    "        conv_out=np.zeros((height-self.filters_size+1,width-self.filters_size+1,self.num_filters))\n",
    "        for image_patch,i,j in self.image_region(image):\n",
    "            conv_out[i,j]= np.sum(image_patch*self.conv_filter,axis=(1,2))\n",
    "        return conv_out\n",
    "    def back_prop(self,dL_dout, learning_rate):\n",
    "        dL_dF_params=np.zeros(self.conv_filter.shape)\n",
    "        for image_patch,i,j in self.image_region(self.image):\n",
    "            for k in range(self.num_filters):\n",
    "                dL_dF_params[k]+=image_patch*dL_dout[i,j,k]\n",
    "        self.conv_filter-=learning_rate*dL_dF_params\n",
    "        return dL_dF_params\n",
    "    \n",
    "\n",
    "\n",
    "\n",
    "\n"
   ]
  },
  {
   "cell_type": "code",
   "execution_count": 6,
   "metadata": {},
   "outputs": [],
   "source": [
    "# conn=conv(18,7)\n",
    "# out=conn.forward_prop(img)\n",
    "# out.shape"
   ]
  },
  {
   "cell_type": "code",
   "execution_count": 7,
   "metadata": {},
   "outputs": [],
   "source": [
    "# plt.imshow(out[:,:,3],cmap='gray')"
   ]
  },
  {
   "cell_type": "code",
   "execution_count": 8,
   "metadata": {},
   "outputs": [],
   "source": [
    "class  max_pool:\n",
    "    def __init__(self,filter_size):\n",
    "        self.filter_size=filter_size\n",
    "    def image_region(self,image):\n",
    "        new_height=image.shape[0]//self.filter_size\n",
    "        new_width=image.shape[1]//self.filter_size\n",
    "        self.image=image\n",
    "        for i in range(new_height):\n",
    "            for j in range(new_width):\n",
    "                image_patch=image[(i*self.filter_size):(i*self.filter_size+self.filter_size),(j*self.filter_size):(j*self.filter_size+self.filter_size)]\n",
    "                yield image_patch,i,j\n",
    "    def forward_prop(self,image):\n",
    "        height,width,num_filters=image.shape\n",
    "        output=np.zeros((height//self.filter_size,width//self.filter_size,num_filters))\n",
    "        for image_patch,i,j in self.image_region(image):\n",
    "            output[i,j]=np.amax(image_patch,axis=(0,1))\n",
    "        return output\n",
    "    def back_prop(self,dL_dout):\n",
    "        dL_dmax_pool=np.zeros(self.image.shape)\n",
    "        for image_patch,i,j in self.image_region(self.image):\n",
    "            height,width,num_filters=image_patch.shape\n",
    "            maximum_val=np.amax(image_patch,axis=(0,1))\n",
    "            for il in range(height):\n",
    "                for jl in range(width):\n",
    "                    for kl in range(num_filters):\n",
    "                        if image_patch[il,jl,kl]== maximum_val[kl]:\n",
    "                            dL_dmax_pool[i*self.filter_size+il,j*self.filter_size+jl,kl]=dL_dout[i,j,kl]\n",
    "        return dL_dmax_pool       \n",
    "\n",
    "\n"
   ]
  },
  {
   "cell_type": "code",
   "execution_count": 9,
   "metadata": {},
   "outputs": [],
   "source": [
    "# conn2=max_pool(4)\n",
    "# out2=conn2.forward_prop(out)\n",
    "# out2.shape"
   ]
  },
  {
   "cell_type": "code",
   "execution_count": 10,
   "metadata": {},
   "outputs": [],
   "source": [
    "# plt.imshow(out2[:,:,2],cmap='gray')"
   ]
  },
  {
   "cell_type": "code",
   "execution_count": 11,
   "metadata": {},
   "outputs": [],
   "source": [
    "class softmax:\n",
    "    def __init__(self,input_node,softmax_node):\n",
    "        self.weight=np.random.randn(input_node,softmax_node)/input_node\n",
    "        self.bias=np.zeros(softmax_node)\n",
    "    def forward_prop(self,image):\n",
    "        self.orig_im_shape=image.shape\n",
    "        image_moodified=image.flatten()\n",
    "        self.modified_input=image_moodified\n",
    "        output_val=np.dot(image_moodified,self.weight)+self.bias\n",
    "        self.out=output_val\n",
    "        exp_out=np.exp(output_val)\n",
    "        return exp_out/np.sum(exp_out,axis=0)\n",
    "    def back_prop(self,dL_dout,learning_rate):\n",
    "        for i, grad in enumerate(dL_dout):\n",
    "            if grad==0:\n",
    "                continue\n",
    "            transformation_eq=np.exp(self.out)\n",
    "            # print(transformation_eq)\n",
    "            s_total=np.sum(transformation_eq)\n",
    "            # gradient with respect to out(z)\n",
    "            dy_dz=-transformation_eq[i]*transformation_eq/(s_total**2)\n",
    "            dy_dz[i]=transformation_eq[i]*(s_total-transformation_eq[i])/(s_total**2)\n",
    "            #gradients of totals against weights/biases/input\n",
    "            dz_dw=self.modified_input\n",
    "            dz_db=1\n",
    "            dz_d_inp=self.weight\n",
    "            #gradient of loss against totals\n",
    "\n",
    "            dL_dz=grad*dy_dz\n",
    "            # Gradients of loss against weights/biases/input\n",
    "            dL_dw=dz_dw[np.newaxis].T@ dL_dz[np.newaxis]\n",
    "            dL_db=dL_dz*dz_db\n",
    "            dL_d_inp=dz_d_inp@dL_dz\n",
    "            self.weight-=learning_rate*dL_dw\n",
    "            self.bias-=learning_rate*dL_db\n",
    "            return dL_d_inp.reshape(self.orig_im_shape)\n"
   ]
  },
  {
   "cell_type": "code",
   "execution_count": 12,
   "metadata": {},
   "outputs": [],
   "source": [
    "# conn3=softmax(268*478*18,10)\n",
    "# out3=conn3.forward_prop(out2)\n",
    "# print(out3)"
   ]
  },
  {
   "cell_type": "code",
   "execution_count": 13,
   "metadata": {},
   "outputs": [],
   "source": [
    "from keras.datasets import mnist\n",
    "(X_train,y_train),(X_test,y_test)=mnist.load_data()"
   ]
  },
  {
   "cell_type": "code",
   "execution_count": 14,
   "metadata": {},
   "outputs": [],
   "source": [
    "train_images=X_train[:1500]\n",
    "train_labels=y_train[:1500]\n",
    "test_images=X_test[:1500]\n",
    "test_labels=y_test[:1500]\n"
   ]
  },
  {
   "cell_type": "code",
   "execution_count": 15,
   "metadata": {},
   "outputs": [],
   "source": [
    "conv=conv(8,3)\n",
    "pool=max_pool(2)\n",
    "softmax=softmax(13*13*8,10)\n"
   ]
  },
  {
   "cell_type": "code",
   "execution_count": 16,
   "metadata": {},
   "outputs": [],
   "source": [
    "def cnn_forward_prop(image,label):\n",
    "    out_p=conv.forward_prop((image/255)-0.5)\n",
    "    out_p=pool.forward_prop(out_p)\n",
    "    out_p=softmax.forward_prop(out_p)\n",
    "    cross_ent_loss=-np.log(out_p[label])\n",
    "    accuracy_eval=1 if np.argmax(out_p)==label else 0\n",
    "    return out_p,cross_ent_loss,accuracy_eval"
   ]
  },
  {
   "cell_type": "code",
   "execution_count": 17,
   "metadata": {},
   "outputs": [],
   "source": [
    "def training_cnn(image,label,learn_rate=0.005):\n",
    "    out,loss,acc=cnn_forward_prop(image,label)\n",
    "    gradient=np.zeros(10)\n",
    "    gradient[label]=-1/out[label]\n",
    "    grad_back=softmax.back_prop(gradient,learn_rate)\n",
    "    grad_back=pool.back_prop(grad_back)\n",
    "    grad_back=conv.back_prop(grad_back,learn_rate)\n",
    "    return loss,acc"
   ]
  },
  {
   "cell_type": "code",
   "execution_count": 18,
   "metadata": {},
   "outputs": [
    {
     "name": "stdout",
     "output_type": "stream",
     "text": [
      "epochs 1---->\n",
      "1 steps out of 100 steps: Average Loss 0.000 and accuracy: 0%\n",
      "101 steps out of 100 steps: Average Loss 2.271 and accuracy: 23%\n",
      "201 steps out of 100 steps: Average Loss 2.024 and accuracy: 39%\n",
      "301 steps out of 100 steps: Average Loss 1.788 and accuracy: 43%\n",
      "401 steps out of 100 steps: Average Loss 1.264 and accuracy: 62%\n",
      "501 steps out of 100 steps: Average Loss 0.988 and accuracy: 70%\n",
      "601 steps out of 100 steps: Average Loss 0.745 and accuracy: 74%\n",
      "701 steps out of 100 steps: Average Loss 0.951 and accuracy: 65%\n",
      "801 steps out of 100 steps: Average Loss 0.545 and accuracy: 78%\n",
      "901 steps out of 100 steps: Average Loss 0.817 and accuracy: 71%\n",
      "1001 steps out of 100 steps: Average Loss 0.803 and accuracy: 74%\n",
      "1101 steps out of 100 steps: Average Loss 0.518 and accuracy: 82%\n",
      "1201 steps out of 100 steps: Average Loss 0.639 and accuracy: 81%\n",
      "1301 steps out of 100 steps: Average Loss 0.545 and accuracy: 86%\n",
      "1401 steps out of 100 steps: Average Loss 0.418 and accuracy: 84%\n",
      "epochs 2---->\n",
      "1 steps out of 100 steps: Average Loss 0.000 and accuracy: 0%\n",
      "101 steps out of 100 steps: Average Loss 0.563 and accuracy: 86%\n",
      "201 steps out of 100 steps: Average Loss 0.612 and accuracy: 84%\n",
      "301 steps out of 100 steps: Average Loss 0.522 and accuracy: 77%\n",
      "401 steps out of 100 steps: Average Loss 0.386 and accuracy: 85%\n",
      "501 steps out of 100 steps: Average Loss 0.461 and accuracy: 87%\n",
      "601 steps out of 100 steps: Average Loss 0.544 and accuracy: 86%\n",
      "701 steps out of 100 steps: Average Loss 0.398 and accuracy: 85%\n",
      "801 steps out of 100 steps: Average Loss 0.569 and accuracy: 79%\n",
      "901 steps out of 100 steps: Average Loss 0.605 and accuracy: 85%\n",
      "1001 steps out of 100 steps: Average Loss 0.524 and accuracy: 89%\n",
      "1101 steps out of 100 steps: Average Loss 0.388 and accuracy: 92%\n",
      "1201 steps out of 100 steps: Average Loss 0.465 and accuracy: 87%\n",
      "1301 steps out of 100 steps: Average Loss 0.325 and accuracy: 91%\n",
      "1401 steps out of 100 steps: Average Loss 0.618 and accuracy: 83%\n",
      "epochs 3---->\n",
      "1 steps out of 100 steps: Average Loss 0.000 and accuracy: 0%\n",
      "101 steps out of 100 steps: Average Loss 0.388 and accuracy: 86%\n",
      "201 steps out of 100 steps: Average Loss 0.374 and accuracy: 89%\n",
      "301 steps out of 100 steps: Average Loss 0.361 and accuracy: 91%\n",
      "401 steps out of 100 steps: Average Loss 0.514 and accuracy: 83%\n",
      "501 steps out of 100 steps: Average Loss 0.409 and accuracy: 88%\n",
      "601 steps out of 100 steps: Average Loss 0.289 and accuracy: 94%\n",
      "701 steps out of 100 steps: Average Loss 0.422 and accuracy: 88%\n",
      "801 steps out of 100 steps: Average Loss 0.326 and accuracy: 94%\n",
      "901 steps out of 100 steps: Average Loss 0.274 and accuracy: 88%\n",
      "1001 steps out of 100 steps: Average Loss 0.269 and accuracy: 90%\n",
      "1101 steps out of 100 steps: Average Loss 0.449 and accuracy: 87%\n",
      "1201 steps out of 100 steps: Average Loss 0.249 and accuracy: 92%\n",
      "1301 steps out of 100 steps: Average Loss 0.409 and accuracy: 90%\n",
      "1401 steps out of 100 steps: Average Loss 0.422 and accuracy: 87%\n",
      "epochs 4---->\n",
      "1 steps out of 100 steps: Average Loss 0.000 and accuracy: 0%\n",
      "101 steps out of 100 steps: Average Loss 0.217 and accuracy: 94%\n",
      "201 steps out of 100 steps: Average Loss 0.482 and accuracy: 86%\n",
      "301 steps out of 100 steps: Average Loss 0.389 and accuracy: 86%\n",
      "401 steps out of 100 steps: Average Loss 0.303 and accuracy: 93%\n",
      "501 steps out of 100 steps: Average Loss 0.235 and accuracy: 93%\n",
      "601 steps out of 100 steps: Average Loss 0.266 and accuracy: 96%\n",
      "701 steps out of 100 steps: Average Loss 0.271 and accuracy: 89%\n",
      "801 steps out of 100 steps: Average Loss 0.468 and accuracy: 87%\n",
      "901 steps out of 100 steps: Average Loss 0.431 and accuracy: 87%\n",
      "1001 steps out of 100 steps: Average Loss 0.257 and accuracy: 92%\n",
      "1101 steps out of 100 steps: Average Loss 0.317 and accuracy: 93%\n",
      "1201 steps out of 100 steps: Average Loss 0.282 and accuracy: 91%\n",
      "1301 steps out of 100 steps: Average Loss 0.305 and accuracy: 88%\n",
      "1401 steps out of 100 steps: Average Loss 0.302 and accuracy: 90%\n"
     ]
    }
   ],
   "source": [
    "for epoch1 in range(4):\n",
    "    print('epochs %d---->' %(epoch1+1))\n",
    "    #shuffle the training data\n",
    "    shuffle_data=np.random.permutation(len(train_images))\n",
    "    train_images=train_images[shuffle_data]\n",
    "    train_labels=train_labels[shuffle_data]\n",
    "    # training the cnn\n",
    "    loss=0\n",
    "    num_correct=0\n",
    "    for i, (im,label) in enumerate(zip(train_images,train_labels)):\n",
    "        if i %100==0:\n",
    "            print('%d steps out of 100 steps: Average Loss %.3f and accuracy: %d%%'%(i+1,loss/100,num_correct))\n",
    "            loss=0\n",
    "            num_correct=0\n",
    "        l1,accu=training_cnn(im,label)\n",
    "        loss+=l1\n",
    "        num_correct+=accu\n"
   ]
  },
  {
   "cell_type": "code",
   "execution_count": 19,
   "metadata": {},
   "outputs": [
    {
     "name": "stdout",
     "output_type": "stream",
     "text": [
      "testing phase\n"
     ]
    }
   ],
   "source": [
    "print('testing phase')"
   ]
  },
  {
   "cell_type": "code",
   "execution_count": 20,
   "metadata": {},
   "outputs": [
    {
     "name": "stdout",
     "output_type": "stream",
     "text": [
      "test loss:  11.0\n",
      "test accuracy: 0.8453333333333334\n"
     ]
    }
   ],
   "source": [
    "loss = 0 \n",
    "num_correct = 0\n",
    "for im, label in zip (test_images,test_labels):\n",
    "    _,l1,acc=cnn_forward_prop(im,label)\n",
    "    loss+=11\n",
    "    num_correct+=acc\n",
    "num_test =len(test_images)\n",
    "print('test loss: ', loss/num_test)\n",
    "print('test accuracy:', num_correct/num_test)\n"
   ]
  },
  {
   "cell_type": "code",
   "execution_count": null,
   "metadata": {},
   "outputs": [],
   "source": []
  }
 ],
 "metadata": {
  "kernelspec": {
   "display_name": "Python 3",
   "language": "python",
   "name": "python3"
  },
  "language_info": {
   "codemirror_mode": {
    "name": "ipython",
    "version": 3
   },
   "file_extension": ".py",
   "mimetype": "text/x-python",
   "name": "python",
   "nbconvert_exporter": "python",
   "pygments_lexer": "ipython3",
   "version": "3.11.5"
  }
 },
 "nbformat": 4,
 "nbformat_minor": 2
}
