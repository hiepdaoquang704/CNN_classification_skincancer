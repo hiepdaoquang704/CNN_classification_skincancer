{
 "cells": [
  {
   "cell_type": "code",
   "execution_count": 104,
   "metadata": {},
   "outputs": [],
   "source": [
    "import numpy as np\n",
    "import pandas as pd\n",
    "import cv2 \n",
    "import matplotlib.pyplot as plt\n"
   ]
  },
  {
   "cell_type": "code",
   "execution_count": 105,
   "metadata": {},
   "outputs": [],
   "source": [
    "# img=cv2.imread(\"D:\\imageprocessing\\peakpx.jpg\",cv2.IMREAD_GRAYSCALE)/255\n",
    "# plt.imshow(img,cmap='gray')\n",
    "# plt.show()\n"
   ]
  },
  {
   "cell_type": "code",
   "execution_count": null,
   "metadata": {},
   "outputs": [],
   "source": []
  },
  {
   "cell_type": "code",
   "execution_count": 106,
   "metadata": {},
   "outputs": [],
   "source": [
    "class conv:\n",
    "    def __init__(self,num_filters,filter_size):\n",
    "        self.num_filters=num_filters\n",
    "        self.filters_size=filter_size\n",
    "        self.conv_filter=np.random.randn(num_filters,filter_size,filter_size)/(filter_size*filter_size)\n",
    "    def image_region(self,image):\n",
    "        height,width=image.shape\n",
    "        self.image=image\n",
    "        for j in range(height-self.filters_size+1):\n",
    "            for k in range(width-self.filters_size+1):\n",
    "                image_patch=image[j:(j+self.filters_size),k:(k+self.filters_size)]\n",
    "                yield image_patch,j,k\n",
    "    def forward_prop(self,image):\n",
    "        height, width=image.shape\n",
    "        conv_out=np.zeros((height-self.filters_size+1,width-self.filters_size+1,self.num_filters))\n",
    "        for image_patch,i,j in self.image_region(image):\n",
    "            conv_out[i,j]= np.sum(image_patch*self.conv_filter,axis=(1,2))\n",
    "        return conv_out\n",
    "    def back_prop(self,dL_dout, learning_rate):\n",
    "        dL_dF_params=np.zeros(self.conv_filter.shape)\n",
    "        for image_patch,i,j in self.image_region(self.image):\n",
    "            for k in range(self.num_filters):\n",
    "                dL_dF_params[k]+=image_patch*dL_dout[i,j,k]\n",
    "        self.conv_filter-=learning_rate*dL_dF_params\n",
    "        return dL_dF_params\n",
    "    \n",
    "\n",
    "\n",
    "\n",
    "\n"
   ]
  },
  {
   "cell_type": "code",
   "execution_count": 107,
   "metadata": {},
   "outputs": [],
   "source": [
    "# conn=conv(18,7)\n",
    "# out=conn.forward_prop(img)\n",
    "# out.shape"
   ]
  },
  {
   "cell_type": "code",
   "execution_count": 108,
   "metadata": {},
   "outputs": [],
   "source": [
    "# plt.imshow(out[:,:,3],cmap='gray')"
   ]
  },
  {
   "cell_type": "code",
   "execution_count": 109,
   "metadata": {},
   "outputs": [],
   "source": [
    "class  max_pool:\n",
    "    def __init__(self,filter_size):\n",
    "        self.filter_size=filter_size\n",
    "    def image_region(self,image):\n",
    "        new_height=image.shape[0]//self.filter_size\n",
    "        new_width=image.shape[1]//self.filter_size\n",
    "        self.image=image\n",
    "        for i in range(new_height):\n",
    "            for j in range(new_width):\n",
    "                image_patch=image[(i*self.filter_size):(i*self.filter_size+self.filter_size),(j*self.filter_size):(j*self.filter_size+self.filter_size)]\n",
    "                yield image_patch,i,j\n",
    "    def forward_prop(self,image):\n",
    "        height,width,num_filters=image.shape\n",
    "        output=np.zeros((height//self.filter_size,width//self.filter_size,num_filters))\n",
    "        for image_patch,i,j in self.image_region(image):\n",
    "            output[i,j]=np.amax(image_patch,axis=(0,1))\n",
    "        return output\n",
    "    def back_prop(self,dL_dout):\n",
    "        dL_dmax_pool=np.zeros(self.image.shape)\n",
    "        for image_patch,i,j in self.image_region(self.image):\n",
    "            height,width,num_filters=image_patch.shape\n",
    "            maximum_val=np.amax(image_patch,axis=(0,1))\n",
    "            for il in range(height):\n",
    "                for jl in range(width):\n",
    "                    for kl in range(num_filters):\n",
    "                        if image_patch[il,jl,kl]== maximum_val[kl]:\n",
    "                            dL_dmax_pool[i*self.filter_size+il,j*self.filter_size+jl,kl]=dL_dout[i,j,kl]\n",
    "        return dL_dmax_pool       \n",
    "\n",
    "\n"
   ]
  },
  {
   "cell_type": "code",
   "execution_count": 110,
   "metadata": {},
   "outputs": [],
   "source": [
    "# conn2=max_pool(4)\n",
    "# out2=conn2.forward_prop(out)\n",
    "# out2.shape"
   ]
  },
  {
   "cell_type": "code",
   "execution_count": 111,
   "metadata": {},
   "outputs": [],
   "source": [
    "# plt.imshow(out2[:,:,2],cmap='gray')"
   ]
  },
  {
   "cell_type": "code",
   "execution_count": 112,
   "metadata": {},
   "outputs": [],
   "source": [
    "class softmax:\n",
    "    def __init__(self,input_node,softmax_node):\n",
    "        self.weight=np.random.randn(input_node,softmax_node)/input_node\n",
    "        self.bias=np.zeros(softmax_node)\n",
    "    def forward_prop(self,image):\n",
    "        self.orig_im_shape=image.shape\n",
    "        image_moodified=image.flatten()\n",
    "        self.modified_input=image_moodified\n",
    "        output_val=np.dot(image_moodified,self.weight)+self.bias\n",
    "        self.out=output_val\n",
    "        exp_out=np.exp(output_val)\n",
    "        return exp_out/np.sum(exp_out,axis=0)\n",
    "    def back_prop(self,dL_dout,learning_rate):\n",
    "        for i, grad in enumerate(dL_dout):\n",
    "            if grad==0:\n",
    "                continue\n",
    "            transformation_eq=np.exp(self.out)\n",
    "            # print(transformation_eq)\n",
    "            s_total=np.sum(transformation_eq)\n",
    "            # gradient with respect to out(z)\n",
    "            dy_dz=-transformation_eq[i]*transformation_eq/(s_total**2)\n",
    "            dy_dz[i]=transformation_eq[i]*(s_total-transformation_eq[i])/(s_total**2)\n",
    "            #gradients of totals against weights/biases/input\n",
    "            dz_dw=self.modified_input\n",
    "            dz_db=1\n",
    "            dz_d_inp=self.weight\n",
    "            #gradient of loss against totals\n",
    "\n",
    "            dL_dz=grad*dy_dz\n",
    "            # Gradients of loss against weights/biases/input\n",
    "            dL_dw=dz_dw[np.newaxis].T@ dL_dz[np.newaxis]\n",
    "            dL_db=dL_dz*dz_db\n",
    "            dL_d_inp=dz_d_inp@dL_dz\n",
    "            self.weight-=learning_rate*dL_dw\n",
    "            self.bias-=learning_rate*dL_db\n",
    "            return dL_d_inp.reshape(self.orig_im_shape)\n"
   ]
  },
  {
   "cell_type": "code",
   "execution_count": 113,
   "metadata": {},
   "outputs": [],
   "source": [
    "# conn3=softmax(268*478*18,10)\n",
    "# out3=conn3.forward_prop(out2)\n",
    "# print(out3)"
   ]
  },
  {
   "cell_type": "code",
   "execution_count": 114,
   "metadata": {},
   "outputs": [],
   "source": [
    "from keras.datasets import mnist\n",
    "(X_train,y_train),(X_test,y_test)=mnist.load_data()"
   ]
  },
  {
   "cell_type": "code",
   "execution_count": 115,
   "metadata": {},
   "outputs": [],
   "source": [
    "train_images=X_train[:1500]\n",
    "train_labels=y_train[:1500]\n",
    "test_images=X_test[:1500]\n",
    "test_labels=y_test[:1500]\n"
   ]
  },
  {
   "cell_type": "code",
   "execution_count": 116,
   "metadata": {},
   "outputs": [],
   "source": [
    "conv=conv(8,3)\n",
    "pool=max_pool(2)\n",
    "softmax=softmax(13*13*8,10)\n"
   ]
  },
  {
   "cell_type": "code",
   "execution_count": 117,
   "metadata": {},
   "outputs": [],
   "source": [
    "def cnn_forward_prop(image,label):\n",
    "    out_p=conv.forward_prop((image/255)-0.5)\n",
    "    out_p=pool.forward_prop(out_p)\n",
    "    out_p=softmax.forward_prop(out_p)\n",
    "    cross_ent_loss=-np.log(out_p[label])\n",
    "    accuracy_eval=1 if np.argmax(out_p)==label else 0\n",
    "    return out_p,cross_ent_loss,accuracy_eval"
   ]
  },
  {
   "cell_type": "code",
   "execution_count": 118,
   "metadata": {},
   "outputs": [],
   "source": [
    "def training_cnn(image,label,learn_rate=0.005):\n",
    "    out,loss,acc=cnn_forward_prop(image,label)\n",
    "    gradient=np.zeros(10)\n",
    "    gradient[label]=-1/out[label]\n",
    "    grad_back=softmax.back_prop(gradient,learn_rate)\n",
    "    grad_back=pool.back_prop(grad_back)\n",
    "    grad_back=conv.back_prop(grad_back,learn_rate)\n",
    "    return loss,acc"
   ]
  },
  {
   "cell_type": "code",
   "execution_count": 119,
   "metadata": {},
   "outputs": [
    {
     "name": "stdout",
     "output_type": "stream",
     "text": [
      "epochs 1---->\n",
      "1 steps out of 100 steps: Average Loss 0.000 and accuracy: 0%\n"
     ]
    },
    {
     "name": "stdout",
     "output_type": "stream",
     "text": [
      "101 steps out of 100 steps: Average Loss 2.229 and accuracy: 20%\n",
      "201 steps out of 100 steps: Average Loss 2.023 and accuracy: 39%\n",
      "301 steps out of 100 steps: Average Loss 1.609 and accuracy: 45%\n",
      "401 steps out of 100 steps: Average Loss 1.110 and accuracy: 65%\n",
      "501 steps out of 100 steps: Average Loss 1.038 and accuracy: 65%\n",
      "601 steps out of 100 steps: Average Loss 0.826 and accuracy: 71%\n",
      "701 steps out of 100 steps: Average Loss 0.884 and accuracy: 71%\n",
      "801 steps out of 100 steps: Average Loss 0.887 and accuracy: 70%\n",
      "901 steps out of 100 steps: Average Loss 0.789 and accuracy: 70%\n",
      "1001 steps out of 100 steps: Average Loss 0.495 and accuracy: 87%\n",
      "1101 steps out of 100 steps: Average Loss 0.669 and accuracy: 82%\n",
      "1201 steps out of 100 steps: Average Loss 0.728 and accuracy: 84%\n",
      "1301 steps out of 100 steps: Average Loss 0.709 and accuracy: 80%\n",
      "1401 steps out of 100 steps: Average Loss 0.574 and accuracy: 88%\n",
      "test loss 0.045247404928781446\n",
      "test accuracy:  0.051333333333333335\n",
      "epochs 2---->\n",
      "1 steps out of 100 steps: Average Loss 0.000 and accuracy: 0%\n",
      "101 steps out of 100 steps: Average Loss 0.650 and accuracy: 83%\n",
      "201 steps out of 100 steps: Average Loss 0.538 and accuracy: 81%\n",
      "301 steps out of 100 steps: Average Loss 0.517 and accuracy: 85%\n",
      "401 steps out of 100 steps: Average Loss 0.559 and accuracy: 85%\n",
      "501 steps out of 100 steps: Average Loss 0.384 and accuracy: 87%\n",
      "601 steps out of 100 steps: Average Loss 0.400 and accuracy: 85%\n",
      "701 steps out of 100 steps: Average Loss 0.573 and accuracy: 80%\n",
      "801 steps out of 100 steps: Average Loss 0.422 and accuracy: 88%\n",
      "901 steps out of 100 steps: Average Loss 0.488 and accuracy: 87%\n",
      "1001 steps out of 100 steps: Average Loss 0.512 and accuracy: 85%\n",
      "1101 steps out of 100 steps: Average Loss 0.497 and accuracy: 85%\n",
      "1201 steps out of 100 steps: Average Loss 0.465 and accuracy: 80%\n",
      "1301 steps out of 100 steps: Average Loss 0.449 and accuracy: 88%\n",
      "1401 steps out of 100 steps: Average Loss 0.453 and accuracy: 86%\n",
      "test loss 0.02989190604795014\n",
      "test accuracy:  0.056666666666666664\n",
      "epochs 3---->\n",
      "1 steps out of 100 steps: Average Loss 0.000 and accuracy: 0%\n",
      "101 steps out of 100 steps: Average Loss 0.377 and accuracy: 88%\n",
      "201 steps out of 100 steps: Average Loss 0.445 and accuracy: 87%\n",
      "301 steps out of 100 steps: Average Loss 0.472 and accuracy: 84%\n",
      "401 steps out of 100 steps: Average Loss 0.234 and accuracy: 95%\n",
      "501 steps out of 100 steps: Average Loss 0.416 and accuracy: 89%\n",
      "601 steps out of 100 steps: Average Loss 0.481 and accuracy: 83%\n",
      "701 steps out of 100 steps: Average Loss 0.393 and accuracy: 87%\n",
      "801 steps out of 100 steps: Average Loss 0.455 and accuracy: 86%\n",
      "901 steps out of 100 steps: Average Loss 0.327 and accuracy: 91%\n",
      "1001 steps out of 100 steps: Average Loss 0.397 and accuracy: 89%\n",
      "1101 steps out of 100 steps: Average Loss 0.301 and accuracy: 94%\n",
      "1201 steps out of 100 steps: Average Loss 0.230 and accuracy: 93%\n",
      "1301 steps out of 100 steps: Average Loss 0.382 and accuracy: 89%\n",
      "1401 steps out of 100 steps: Average Loss 0.595 and accuracy: 83%\n",
      "test loss 0.02770237730764089\n",
      "test accuracy:  0.056\n",
      "epochs 4---->\n",
      "1 steps out of 100 steps: Average Loss 0.000 and accuracy: 0%\n",
      "101 steps out of 100 steps: Average Loss 0.309 and accuracy: 91%\n",
      "201 steps out of 100 steps: Average Loss 0.324 and accuracy: 88%\n",
      "301 steps out of 100 steps: Average Loss 0.271 and accuracy: 95%\n",
      "401 steps out of 100 steps: Average Loss 0.261 and accuracy: 91%\n",
      "501 steps out of 100 steps: Average Loss 0.371 and accuracy: 90%\n",
      "601 steps out of 100 steps: Average Loss 0.381 and accuracy: 89%\n",
      "701 steps out of 100 steps: Average Loss 0.383 and accuracy: 90%\n",
      "801 steps out of 100 steps: Average Loss 0.320 and accuracy: 91%\n",
      "901 steps out of 100 steps: Average Loss 0.457 and accuracy: 88%\n",
      "1001 steps out of 100 steps: Average Loss 0.335 and accuracy: 90%\n",
      "1101 steps out of 100 steps: Average Loss 0.314 and accuracy: 92%\n",
      "1201 steps out of 100 steps: Average Loss 0.272 and accuracy: 89%\n",
      "1301 steps out of 100 steps: Average Loss 0.345 and accuracy: 88%\n",
      "1401 steps out of 100 steps: Average Loss 0.356 and accuracy: 94%\n",
      "test loss 0.02839591082333352\n",
      "test accuracy:  0.05733333333333333\n"
     ]
    }
   ],
   "source": [
    "for epoch1 in range(4):\n",
    "    print('epochs %d---->' %(epoch1+1))\n",
    "    #shuffle the training data\n",
    "    shuffle_data=np.random.permutation(len(train_images))\n",
    "    train_images=train_images[shuffle_data]\n",
    "    train_labels=train_labels[shuffle_data]\n",
    "    # training the cnn\n",
    "    loss=0\n",
    "    num_correct=0\n",
    "    for i, (im,label) in enumerate(zip(train_images,train_labels)):\n",
    "        if i %100==0:\n",
    "            print('%d steps out of 100 steps: Average Loss %.3f and accuracy: %d%%'%(i+1,loss/100,num_correct))\n",
    "            loss=0\n",
    "            num_correct=0\n",
    "        l1,accu=training_cnn(im,label)\n",
    "        loss+=l1\n",
    "        num_correct+=accu\n",
    "    num_tests=len(test_images)\n",
    "    print('test loss',loss/num_tests)\n",
    "    print('test accuracy: ', num_correct/num_tests)"
   ]
  },
  {
   "cell_type": "code",
   "execution_count": 1,
   "metadata": {},
   "outputs": [
    {
     "ename": "SyntaxError",
     "evalue": "invalid syntax (3921850951.py, line 1)",
     "output_type": "error",
     "traceback": [
      "\u001b[1;36m  Cell \u001b[1;32mIn[1], line 1\u001b[1;36m\u001b[0m\n\u001b[1;33m    git add .\u001b[0m\n\u001b[1;37m        ^\u001b[0m\n\u001b[1;31mSyntaxError\u001b[0m\u001b[1;31m:\u001b[0m invalid syntax\n"
     ]
    }
   ],
   "source": [
    "\n"
   ]
  },
  {
   "cell_type": "code",
   "execution_count": null,
   "metadata": {},
   "outputs": [],
   "source": []
  }
 ],
 "metadata": {
  "kernelspec": {
   "display_name": "Python 3",
   "language": "python",
   "name": "python3"
  },
  "language_info": {
   "codemirror_mode": {
    "name": "ipython",
    "version": 3
   },
   "file_extension": ".py",
   "mimetype": "text/x-python",
   "name": "python",
   "nbconvert_exporter": "python",
   "pygments_lexer": "ipython3",
   "version": "3.11.5"
  }
 },
 "nbformat": 4,
 "nbformat_minor": 2
}
